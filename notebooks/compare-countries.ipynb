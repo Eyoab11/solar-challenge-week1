{
 "cells": [
  {
   "cell_type": "markdown",
   "id": "a1d2c68d",
   "metadata": {},
   "source": [
    "Imports"
   ]
  },
  {
   "cell_type": "code",
   "execution_count": 1,
   "id": "33f5eb27",
   "metadata": {},
   "outputs": [],
   "source": [
    "# Import required libraries\n",
    "import pandas as pd\n",
    "import matplotlib.pyplot as plt\n",
    "import seaborn as sns\n",
    "from scipy import stats\n",
    "from scipy.stats import f_oneway, kruskal\n",
    "import os"
   ]
  },
  {
   "cell_type": "markdown",
   "id": "a26c07a0",
   "metadata": {},
   "source": [
    "Environment Configuration"
   ]
  },
  {
   "cell_type": "code",
   "execution_count": 2,
   "id": "bd5c903e",
   "metadata": {},
   "outputs": [],
   "source": [
    "CONFIG = {\n",
    "    'countries': ['benin', 'sierra_leone', 'togo'],\n",
    "    'data_files': {\n",
    "        'benin': './data/benin_clean.csv',\n",
    "        'sierra_leone': './data/sierraleone_clean.csv',\n",
    "        'togo': './data/togo_clean.csv'\n",
    "    },\n",
    "    'metrics': ['GHI', 'DNI', 'DHI'],\n",
    "    'output_dir': './data/compare_countries'\n",
    "}"
   ]
  },
  {
   "cell_type": "markdown",
   "id": "9595ebf9",
   "metadata": {},
   "source": [
    "Data Loading"
   ]
  },
  {
   "cell_type": "code",
   "execution_count": 4,
   "id": "e376d947",
   "metadata": {},
   "outputs": [],
   "source": [
    "def load_cleaned_data() -> dict:\n",
    "    \"\"\"Load cleaned datasets for each country.\"\"\"\n",
    "    data = {}\n",
    "    for country, file_path in CONFIG['data_files'].items():\n",
    "        if not os.path.exists(file_path):\n",
    "            raise FileNotFoundError(f\"Cleaned data not found at {file_path}\")\n",
    "        data[country] = pd.read_csv(file_path, parse_dates=['Timestamp'])\n",
    "    return data"
   ]
  },
  {
   "cell_type": "markdown",
   "id": "85e5b261",
   "metadata": {},
   "source": [
    "Summary table"
   ]
  },
  {
   "cell_type": "code",
   "execution_count": 5,
   "id": "6fcc16c2",
   "metadata": {},
   "outputs": [],
   "source": [
    "def compute_summary_table(data: dict) -> pd.DataFrame:\n",
    "    \"\"\"Compute summary table with mean, median, and SD for GHI, DNI, DHI across countries.\n",
    "\n",
    "    Args:\n",
    "        data (dict): Dictionary of DataFrames for each country.\n",
    "\n",
    "    Returns:\n",
    "        pd.DataFrame: Summary table with statistics.\n",
    "    \"\"\"\n",
    "    summary = []\n",
    "    for country, df in data.items():\n",
    "        for metric in CONFIG['metrics']:\n",
    "            if metric in df.columns:\n",
    "                summary.append({\n",
    "                    'Country': country,\n",
    "                    'Metric': metric,\n",
    "                    'Mean': df[metric].mean().round(2),\n",
    "                    'Median': df[metric].median().round(2),\n",
    "                    'Std': df[metric].std().round(2)\n",
    "                })\n",
    "    return pd.DataFrame(summary)"
   ]
  },
  {
   "cell_type": "markdown",
   "id": "3fc0261f",
   "metadata": {},
   "source": [
    "Statistical test"
   ]
  },
  {
   "cell_type": "code",
   "execution_count": 6,
   "id": "bebb87a7",
   "metadata": {},
   "outputs": [],
   "source": [
    "def perform_statistical_test(data: dict, metric: str) -> tuple:\n",
    "    \"\"\"Perform statistical test (ANOVA or Kruskal-Wallis) on a metric across countries.\n",
    "\n",
    "    Args:\n",
    "        data (dict): Dictionary of DataFrames for each country.\n",
    "        metric (str): Metric to test (e.g., 'GHI').\n",
    "\n",
    "    Returns:\n",
    "        tuple: Test name and p-value.\n",
    "    \"\"\"\n",
    "    metric_data = [df[metric].dropna() for df in data.values() if metric in df.columns]\n",
    "    if len(metric_data) != len(data):\n",
    "        return None, None\n",
    "    \n",
    "    # Check for normality (optional, for choosing test)\n",
    "    normality = all(stats.shapiro(df)[1] > 0.05 for df in metric_data)\n",
    "    \n",
    "    if normality:\n",
    "        # Use ANOVA if data is approximately normal\n",
    "        stat, p_value = f_oneway(*metric_data)\n",
    "        test_name = 'ANOVA'\n",
    "    else:\n",
    "        # Use Kruskal-Wallis for non-normal data\n",
    "        stat, p_value = kruskal(*metric_data)\n",
    "        test_name = 'Kruskal-Wallis'\n",
    "    \n",
    "    return test_name, p_value"
   ]
  },
  {
   "cell_type": "markdown",
   "id": "f61704f4",
   "metadata": {},
   "source": [
    "Box plots"
   ]
  },
  {
   "cell_type": "code",
   "execution_count": 8,
   "id": "a8025f1a",
   "metadata": {},
   "outputs": [],
   "source": [
    "def plot_boxplots(data: dict):\n",
    "    \"\"\"Create side-by-side boxplots for GHI, DNI, DHI across countries.\n",
    "\n",
    "    Args:\n",
    "        data (dict): Dictionary of DataFrames for each country.\n",
    "    \"\"\"\n",
    "    os.makedirs(CONFIG['output_dir'], exist_ok=True)\n",
    "    \n",
    "    for metric in CONFIG['metrics']:\n",
    "        plt.figure(figsize=(10, 6))\n",
    "        plot_data = []\n",
    "        for country, df in data.items():\n",
    "            if metric in df.columns:\n",
    "                temp = df[[metric]].copy()\n",
    "                temp['Country'] = country\n",
    "                plot_data.append(temp)\n",
    "        if plot_data:\n",
    "            plot_df = pd.concat(plot_data)\n",
    "            sns.boxplot(x='Country', y=metric, data=plot_df, palette='Set2')\n",
    "            plt.title(f'{metric} Distribution Across Countries')\n",
    "            plt.ylabel(f'{metric} (W/m²)')\n",
    "            plt.savefig(f\"{CONFIG['output_dir']}/{metric}_boxplot.png\")\n",
    "            plt.close()"
   ]
  },
  {
   "cell_type": "markdown",
   "id": "9a7e2b1b",
   "metadata": {},
   "source": [
    "GHI ranking"
   ]
  },
  {
   "cell_type": "code",
   "execution_count": 9,
   "id": "0df7f55e",
   "metadata": {},
   "outputs": [],
   "source": [
    "def plot_ghi_ranking(data: dict):\n",
    "    \"\"\"Create a bar chart ranking countries by average GHI.\n",
    "\n",
    "    Args:\n",
    "        data (dict): Dictionary of DataFrames for each country.\n",
    "    \"\"\"\n",
    "    means = []\n",
    "    for country, df in data.items():\n",
    "        if 'GHI' in df.columns:\n",
    "            means.append({'Country': country, 'Mean GHI': df['GHI'].mean()})\n",
    "    df_means = pd.DataFrame(means).sort_values('Mean GHI', ascending=False)\n",
    "    \n",
    "    plt.figure(figsize=(8, 5))\n",
    "    sns.barplot(x='Mean GHI', y='Country', data=df_means, palette='Blues_d')\n",
    "    plt.title('Ranking of Countries by Average GHI')\n",
    "    plt.xlabel('Mean GHI (W/m²)')\n",
    "    plt.savefig(f\"{CONFIG['output_dir']}/ghi_ranking.png\")\n",
    "    plt.close()"
   ]
  },
  {
   "cell_type": "markdown",
   "id": "1bab8d59",
   "metadata": {},
   "source": [
    "Execution"
   ]
  },
  {
   "cell_type": "code",
   "execution_count": 10,
   "id": "b422e15e",
   "metadata": {},
   "outputs": [
    {
     "name": "stdout",
     "output_type": "stream",
     "text": [
      "Summary Table:\n",
      "        Country Metric    Mean  Median     Std\n",
      "0         benin    GHI  241.96     1.8  330.10\n",
      "1         benin    DNI  167.44     0.0  261.55\n",
      "2         benin    DHI  116.99     1.6  157.46\n",
      "3  sierra_leone    GHI  204.41     0.3  296.79\n",
      "4  sierra_leone    DNI  116.52     0.0  218.57\n",
      "5  sierra_leone    DHI  116.27     0.0  157.02\n",
      "6          togo    GHI  231.72     2.1  321.69\n",
      "7          togo    DNI  151.26     0.0  250.96\n",
      "8          togo    DHI  116.44     2.5  156.52\n",
      "GHI Kruskal-Wallis p-value: 0.0000\n"
     ]
    },
    {
     "name": "stderr",
     "output_type": "stream",
     "text": [
      "d:\\Documents\\Projects\\10 Academy\\final\\solar-challenge-week1\\venv\\Lib\\site-packages\\scipy\\stats\\_axis_nan_policy.py:586: UserWarning: scipy.stats.shapiro: For N > 5000, computed p-value may not be accurate. Current N is 525600.\n",
      "  res = hypotest_fun_out(*samples, **kwds)\n"
     ]
    },
    {
     "name": "stdout",
     "output_type": "stream",
     "text": [
      "DNI Kruskal-Wallis p-value: 0.0000\n",
      "DHI Kruskal-Wallis p-value: 0.0000\n"
     ]
    },
    {
     "name": "stderr",
     "output_type": "stream",
     "text": [
      "C:\\Users\\Yoga i7\\AppData\\Local\\Temp\\ipykernel_17416\\4079400241.py:19: FutureWarning: \n",
      "\n",
      "Passing `palette` without assigning `hue` is deprecated and will be removed in v0.14.0. Assign the `x` variable to `hue` and set `legend=False` for the same effect.\n",
      "\n",
      "  sns.boxplot(x='Country', y=metric, data=plot_df, palette='Set2')\n",
      "C:\\Users\\Yoga i7\\AppData\\Local\\Temp\\ipykernel_17416\\4079400241.py:19: FutureWarning: \n",
      "\n",
      "Passing `palette` without assigning `hue` is deprecated and will be removed in v0.14.0. Assign the `x` variable to `hue` and set `legend=False` for the same effect.\n",
      "\n",
      "  sns.boxplot(x='Country', y=metric, data=plot_df, palette='Set2')\n",
      "C:\\Users\\Yoga i7\\AppData\\Local\\Temp\\ipykernel_17416\\4079400241.py:19: FutureWarning: \n",
      "\n",
      "Passing `palette` without assigning `hue` is deprecated and will be removed in v0.14.0. Assign the `x` variable to `hue` and set `legend=False` for the same effect.\n",
      "\n",
      "  sns.boxplot(x='Country', y=metric, data=plot_df, palette='Set2')\n",
      "C:\\Users\\Yoga i7\\AppData\\Local\\Temp\\ipykernel_17416\\808327505.py:14: FutureWarning: \n",
      "\n",
      "Passing `palette` without assigning `hue` is deprecated and will be removed in v0.14.0. Assign the `y` variable to `hue` and set `legend=False` for the same effect.\n",
      "\n",
      "  sns.barplot(x='Mean GHI', y='Country', data=df_means, palette='Blues_d')\n",
      "d:\\Documents\\Projects\\10 Academy\\final\\solar-challenge-week1\\venv\\Lib\\site-packages\\scipy\\stats\\_axis_nan_policy.py:586: UserWarning: scipy.stats.shapiro: For N > 5000, computed p-value may not be accurate. Current N is 525600.\n",
      "  res = hypotest_fun_out(*samples, **kwds)\n"
     ]
    },
    {
     "name": "stdout",
     "output_type": "stream",
     "text": [
      "\n",
      "Key Observations:\n",
      "- 1: benin has the highest mean GHI (241.96 W/m²), indicating strong solar potential.\n",
      "- Variability: 1: benin shows the highest GHI variability (SD = 330.10), suggesting less predictable solar output.\n",
      "- Statistical significance: GHI differences across countries have a p-value of 0.0000, indicating significant differences.\n",
      "Outputs saved in ./data/compare_countries\n"
     ]
    }
   ],
   "source": [
    "def main():\n",
    "    \"\"\"Execute the cross-country comparison pipeline.\"\"\"\n",
    "    try:\n",
    "        # Load cleaned data\n",
    "        data = load_cleaned_data()\n",
    "        \n",
    "        # Compute and display summary table\n",
    "        summary_table = compute_summary_table(data)\n",
    "        print(\"Summary Table:\")\n",
    "        print(summary_table)\n",
    "        summary_table.to_csv(f\"{CONFIG['output_dir']}/summary_table.csv\", index=False)\n",
    "        \n",
    "        # Perform statistical tests\n",
    "        for metric in CONFIG['metrics']:\n",
    "            test_name, p_value = perform_statistical_test(data, metric)\n",
    "            if test_name:\n",
    "                print(f\"{metric} {test_name} p-value: {p_value:.4f}\")\n",
    "        \n",
    "        # Generate boxplots\n",
    "        plot_boxplots(data)\n",
    "        \n",
    "        # Generate GHI ranking bar chart (bonus)\n",
    "        plot_ghi_ranking(data)\n",
    "        \n",
    "        # Key observations (markdown cell equivalent)\n",
    "        observations = [\n",
    "            f\"{summary_table.loc[summary_table['Metric'] == 'GHI', 'Mean'].idxmax() + 1}: \"\n",
    "            f\"{summary_table.loc[summary_table['Metric'] == 'GHI', 'Country'].iloc[0]} has the highest mean GHI \"\n",
    "            f\"({summary_table.loc[summary_table['Metric'] == 'GHI', 'Mean'].max():.2f} W/m²), indicating strong solar potential.\",\n",
    "            f\"Variability: {summary_table.loc[summary_table['Metric'] == 'GHI', 'Std'].idxmax() + 1}: \"\n",
    "            f\"{summary_table.loc[summary_table['Metric'] == 'GHI', 'Country'].iloc[0]} shows the highest GHI variability \"\n",
    "            f\"(SD = {summary_table.loc[summary_table['Metric'] == 'GHI', 'Std'].max():.2f}), suggesting less predictable solar output.\",\n",
    "            f\"Statistical significance: GHI differences across countries have a p-value of \"\n",
    "            f\"{perform_statistical_test(data, 'GHI')[1]:.4f}, indicating \"\n",
    "            f\"{'significant' if perform_statistical_test(data, 'GHI')[1] < 0.05 else 'no significant'} differences.\"\n",
    "        ]\n",
    "        print(\"\\nKey Observations:\")\n",
    "        for obs in observations:\n",
    "            print(f\"- {obs}\")\n",
    "        \n",
    "        print(f\"Outputs saved in {CONFIG['output_dir']}\")\n",
    "    \n",
    "    except Exception as e:\n",
    "        print(f\"Error: {str(e)}\")\n",
    "\n",
    "# Run the pipeline\n",
    "main()"
   ]
  }
 ],
 "metadata": {
  "kernelspec": {
   "display_name": "venv",
   "language": "python",
   "name": "python3"
  },
  "language_info": {
   "codemirror_mode": {
    "name": "ipython",
    "version": 3
   },
   "file_extension": ".py",
   "mimetype": "text/x-python",
   "name": "python",
   "nbconvert_exporter": "python",
   "pygments_lexer": "ipython3",
   "version": "3.13.3"
  }
 },
 "nbformat": 4,
 "nbformat_minor": 5
}
