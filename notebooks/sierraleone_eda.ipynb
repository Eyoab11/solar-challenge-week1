{
 "cells": [
  {
   "cell_type": "markdown",
   "id": "e8be6666",
   "metadata": {},
   "source": [
    "Imports"
   ]
  },
  {
   "cell_type": "code",
   "execution_count": 1,
   "id": "8f8d4506",
   "metadata": {},
   "outputs": [],
   "source": [
    "import pandas as pd\n",
    "import numpy as np\n",
    "import matplotlib.pyplot as plt\n",
    "import seaborn as sns\n",
    "from scipy import stats\n",
    "from windrose import WindroseAxes \n",
    "import os"
   ]
  },
  {
   "cell_type": "markdown",
   "id": "c142aebf",
   "metadata": {},
   "source": [
    "Setting the country name and creating the data directory"
   ]
  },
  {
   "cell_type": "code",
   "execution_count": 2,
   "id": "687d932a",
   "metadata": {},
   "outputs": [],
   "source": [
    "COUNTRY_NAME = \"sierraleone\"  \n",
    "\n",
    "RAW_DATA_FILE = f'../data/{COUNTRY_NAME}-bumbuna.csv' \n",
    "CLEANED_DATA_FILE = f'data/{COUNTRY_NAME}_clean.csv'\n",
    "os.makedirs('data', exist_ok=True)"
   ]
  },
  {
   "cell_type": "markdown",
   "id": "5aa82159",
   "metadata": {},
   "source": [
    "Loading the data"
   ]
  },
  {
   "cell_type": "code",
   "execution_count": null,
   "id": "c16d6c95",
   "metadata": {},
   "outputs": [],
   "source": [
    "print(f\"--- Starting EDA for {COUNTRY_NAME.upper()} ---\")\n",
    "try:\n",
    "    df = pd.read_csv(RAW_DATA_FILE)\n",
    "    print(f\"Successfully loaded: {RAW_DATA_FILE}\")\n",
    "except FileNotFoundError:\n",
    "    print(f\"ERROR: Raw data file not found at {RAW_DATA_FILE}. Please check the path and COUNTRY_NAME setting.\")\n",
    "    exit()"
   ]
  },
  {
   "cell_type": "markdown",
   "id": "89b2aa24",
   "metadata": {},
   "source": [
    "Summary statistics and missing values"
   ]
  },
  {
   "cell_type": "code",
   "execution_count": null,
   "id": "f335f533",
   "metadata": {},
   "outputs": [],
   "source": [
    "summary_stats = df.describe()\n",
    "print(\"Summary Statistics (Original Data):\\n\", summary_stats)\n",
    "\n",
    "missing_values = df.isna().sum()\n",
    "missing_percent = (missing_values / len(df)) * 100\n",
    "print(\"\\nMissing Values (Count):\\n\", missing_values)\n",
    "print(\"\\nColumns with >5% Missing Values:\\n\", missing_percent[missing_percent > 5])"
   ]
  },
  {
   "cell_type": "markdown",
   "id": "b83d2284",
   "metadata": {},
   "source": [
    "Cleaning"
   ]
  },
  {
   "cell_type": "markdown",
   "id": "2168e0d6",
   "metadata": {},
   "source": [
    "Handling Negative Irradiance"
   ]
  },
  {
   "cell_type": "code",
   "execution_count": null,
   "id": "db65bff9",
   "metadata": {},
   "outputs": [],
   "source": [
    "irradiance_cols = ['GHI', 'DNI', 'DHI', 'ModA', 'ModB']\n",
    "irradiance_cols = ['GHI', 'DNI', 'DHI', 'ModA', 'ModB']\n",
    "for col in irradiance_cols:\n",
    "    if col in df.columns:\n",
    "        negative_count = (df[col] < 0).sum()\n",
    "        if negative_count > 0:\n",
    "            print(f\"Found {negative_count} negative values in {col}. Clipping to 0.\")\n",
    "            df[col] = np.maximum(0, df[col]) \n",
    "    else:\n",
    "        print(f\"Warning: Irradiance column {col} not found in DataFrame.\")"
   ]
  },
  {
   "cell_type": "markdown",
   "id": "d2b886fe",
   "metadata": {},
   "source": [
    "Imputation and Z-score outlier Flagging"
   ]
  },
  {
   "cell_type": "code",
   "execution_count": null,
   "id": "4ffd9c38",
   "metadata": {},
   "outputs": [],
   "source": [
    "numeric_cols_for_processing = [\n",
    "    'GHI', 'DNI', 'DHI', 'ModA', 'ModB', 'Tamb', 'RH',\n",
    "    'WS', 'WSgust', 'WSstdev', 'WD', 'WDstdev', 'BP', 'TModA', 'TModB'\n",
    "]\n",
    "actual_numeric_cols = [col for col in numeric_cols_for_processing if col in df.columns and pd.api.types.is_numeric_dtype(df[col])]\n",
    "print(\"Imputing missing values with median for key numeric columns\")\n",
    "for col in actual_numeric_cols:\n",
    "    if df[col].isnull().any():\n",
    "        median_val = df[col].median()\n",
    "        df[col].fillna(median_val, inplace=True)\n",
    "        \n",
    "cols_for_zscore = ['GHI', 'DNI', 'DHI', 'ModA', 'ModB', 'WS', 'WSgust']\n",
    "valid_cols_for_zscore = [col for col in cols_for_zscore if col in df.columns and pd.api.types.is_numeric_dtype(df[col])]\n",
    "if valid_cols_for_zscore:\n",
    "    z_scores_values = stats.zscore(df[valid_cols_for_zscore])\n",
    "    abs_z_scores = np.abs(z_scores_values)\n",
    "    \n",
    "    outlier_flags = (abs_z_scores > 3).any(axis=1)\n",
    "    df['is_outlier_zscore'] = outlier_flags \n",
    "    print(f\"Number of rows flagged with Z-score > 3 in any of {valid_cols_for_zscore}: {outlier_flags.sum()}\")\n",
    "else:\n",
    "    print(\"No valid columns found for Z-score calculation after initial processing.\")\n",
    "    df['is_outlier_zscore'] = False\n",
    "\n",
    "df_clean = df.dropna(subset=['Timestamp']).copy()\n",
    "df_clean.to_csv(CLEANED_DATA_FILE, index=False)\n",
    "print(f\"Cleaned data saved to {CLEANED_DATA_FILE}\")\n",
    "print(f\"Shape of cleaned data: {df_clean.shape}\")"
   ]
  },
  {
   "cell_type": "markdown",
   "id": "b205faa4",
   "metadata": {},
   "source": [
    "Time series analysis"
   ]
  },
  {
   "cell_type": "code",
   "execution_count": null,
   "id": "e7e3944e",
   "metadata": {},
   "outputs": [],
   "source": [
    "df_clean['Timestamp'] = pd.to_datetime(df_clean['Timestamp'])\n",
    "\n",
    "plt.figure(figsize=(14, 7))\n",
    "plt.plot(df_clean['Timestamp'], df_clean['GHI'], label='GHI', alpha=0.7)\n",
    "plt.plot(df_clean['Timestamp'], df_clean['DNI'], label='DNI', alpha=0.7)\n",
    "plt.plot(df_clean['Timestamp'], df_clean['DHI'], label='DHI', alpha=0.7)\n",
    "if 'Tamb' in df_clean.columns:\n",
    "    plt.plot(df_clean['Timestamp'], df_clean['Tamb'], label='Ambient Temp', alpha=0.7)\n",
    "plt.xlabel('Timestamp')\n",
    "plt.ylabel('Values')\n",
    "plt.title(f'Time Series of Solar Irradiance and Temperature - {COUNTRY_NAME.upper()}')\n",
    "plt.legend()\n",
    "plt.xticks(rotation=45)\n",
    "plt.tight_layout()\n",
    "plt.show()\n",
    "\n",
    "# Monthly averages\n",
    "df_clean['Month'] = df_clean['Timestamp'].dt.month\n",
    "time_series_cols_for_monthly_avg = ['GHI', 'DNI', 'DHI']\n",
    "if 'Tamb' in df_clean.columns:\n",
    "    time_series_cols_for_monthly_avg.append('Tamb')\n",
    "\n",
    "monthly_avg = df_clean.groupby('Month')[time_series_cols_for_monthly_avg].mean()\n",
    "monthly_avg.plot(kind='bar', figsize=(10, 6))\n",
    "plt.title(f'Monthly Average Solar Irradiance and Temperature - {COUNTRY_NAME.upper()}')\n",
    "plt.xlabel('Month')\n",
    "plt.ylabel('Average Values')\n",
    "plt.xticks(rotation=0)\n",
    "plt.tight_layout()\n",
    "plt.show()"
   ]
  },
  {
   "cell_type": "markdown",
   "id": "5a54cb4e",
   "metadata": {},
   "source": [
    "Cleaning impact analysis"
   ]
  },
  {
   "cell_type": "code",
   "execution_count": 3,
   "id": "a29b4d71",
   "metadata": {},
   "outputs": [
    {
     "ename": "NameError",
     "evalue": "name 'df_clean' is not defined",
     "output_type": "error",
     "traceback": [
      "\u001b[31m---------------------------------------------------------------------------\u001b[39m",
      "\u001b[31mNameError\u001b[39m                                 Traceback (most recent call last)",
      "\u001b[36mCell\u001b[39m\u001b[36m \u001b[39m\u001b[32mIn[3]\u001b[39m\u001b[32m, line 1\u001b[39m\n\u001b[32m----> \u001b[39m\u001b[32m1\u001b[39m \u001b[38;5;28;01mif\u001b[39;00m \u001b[33m'\u001b[39m\u001b[33mCleaning\u001b[39m\u001b[33m'\u001b[39m \u001b[38;5;129;01min\u001b[39;00m \u001b[43mdf_clean\u001b[49m.columns \u001b[38;5;129;01mand\u001b[39;00m \u001b[33m'\u001b[39m\u001b[33mModA\u001b[39m\u001b[33m'\u001b[39m \u001b[38;5;129;01min\u001b[39;00m df_clean.columns \u001b[38;5;129;01mand\u001b[39;00m \u001b[33m'\u001b[39m\u001b[33mModB\u001b[39m\u001b[33m'\u001b[39m \u001b[38;5;129;01min\u001b[39;00m df_clean.columns:\n\u001b[32m      3\u001b[39m     \u001b[38;5;28;01mif\u001b[39;00m df_clean[\u001b[33m'\u001b[39m\u001b[33mCleaning\u001b[39m\u001b[33m'\u001b[39m].nunique() <= \u001b[32m2\u001b[39m :\n\u001b[32m      4\u001b[39m         cleaning_impact = df_clean.groupby(\u001b[33m'\u001b[39m\u001b[33mCleaning\u001b[39m\u001b[33m'\u001b[39m)[[\u001b[33m'\u001b[39m\u001b[33mModA\u001b[39m\u001b[33m'\u001b[39m, \u001b[33m'\u001b[39m\u001b[33mModB\u001b[39m\u001b[33m'\u001b[39m]].mean()\n",
      "\u001b[31mNameError\u001b[39m: name 'df_clean' is not defined"
     ]
    }
   ],
   "source": [
    "if 'Cleaning' in df_clean.columns and 'ModA' in df_clean.columns and 'ModB' in df_clean.columns:\n",
    "    \n",
    "    if df_clean['Cleaning'].nunique() <= 2 :\n",
    "        cleaning_impact = df_clean.groupby('Cleaning')[['ModA', 'ModB']].mean()\n",
    "        cleaning_impact.plot(kind='bar', figsize=(8, 5))\n",
    "        plt.title(f'Average ModA and ModB by Cleaning Status - {COUNTRY_NAME.upper()}')\n",
    "        plt.xlabel('Cleaning (0 = No, 1 = Yes)')\n",
    "        plt.ylabel('Average Sensor Reading (W/m²)')\n",
    "        plt.xticks(rotation=0)\n",
    "        plt.tight_layout()\n",
    "        plt.show()\n",
    "    else:\n",
    "        print(\"Cleaning column has too many unique values or is not binary. Skipping plot.\")\n",
    "else:\n",
    "    print(\"Skipping Cleaning Impact: 'Cleaning', 'ModA', or 'ModB' column not found or not suitable.\")"
   ]
  },
  {
   "cell_type": "markdown",
   "id": "a946922c",
   "metadata": {},
   "source": [
    "Correlation and relationship analysis"
   ]
  },
  {
   "cell_type": "code",
   "execution_count": null,
   "id": "e6bd7ae3",
   "metadata": {},
   "outputs": [],
   "source": [
    "corr_cols = ['GHI', 'DNI', 'DHI']\n",
    "if 'TModA' in df_clean.columns: corr_cols.append('TModA')\n",
    "if 'TModB' in df_clean.columns: corr_cols.append('TModB')\n",
    "\n",
    "corr_matrix = df_clean[corr_cols].corr()\n",
    "plt.figure(figsize=(8, 6))\n",
    "sns.heatmap(corr_matrix, annot=True, cmap='coolwarm', fmt=\".2f\")\n",
    "plt.title(f'Correlation Heatmap - {COUNTRY_NAME.upper()}')\n",
    "plt.tight_layout()\n",
    "plt.show()\n",
    "\n",
    "print(\"Generating scatter plots...\")\n",
    "plt.figure(figsize=(18, 5)) \n",
    "\n",
    "plt.subplot(1, 3, 1)\n",
    "if 'WS' in df_clean.columns and 'GHI' in df_clean.columns:\n",
    "    plt.scatter(df_clean['WS'], df_clean['GHI'], alpha=0.3, s=10)\n",
    "    plt.xlabel('Wind Speed (m/s)')\n",
    "    plt.ylabel('GHI (W/m²)')\n",
    "    plt.title('WS vs. GHI')\n",
    "else:\n",
    "    plt.text(0.5, 0.5, 'WS or GHI not available', ha='center', va='center')\n",
    "\n",
    "\n",
    "plt.subplot(1, 3, 2)\n",
    "if 'WSgust' in df_clean.columns and 'GHI' in df_clean.columns:\n",
    "    plt.scatter(df_clean['WSgust'], df_clean['GHI'], alpha=0.3, s=10)\n",
    "    plt.xlabel('Wind Gust Speed (m/s)')\n",
    "    plt.ylabel('GHI (W/m²)')\n",
    "    plt.title('WSgust vs. GHI')\n",
    "else:\n",
    "    plt.text(0.5, 0.5, 'WSgust or GHI not available', ha='center', va='center')\n",
    "\n",
    "\n",
    "plt.subplot(1, 3, 3)\n",
    "if 'WD' in df_clean.columns and 'GHI' in df_clean.columns:\n",
    "    plt.scatter(df_clean['WD'], df_clean['GHI'], alpha=0.3, s=10)\n",
    "    plt.xlabel('Wind Direction (°N)')\n",
    "    plt.ylabel('GHI (W/m²)')\n",
    "    plt.title('WD vs. GHI')\n",
    "else:\n",
    "    plt.text(0.5, 0.5, 'WD or GHI not available', ha='center', va='center')\n",
    "\n",
    "plt.suptitle(f'Wind Parameters vs. GHI - {COUNTRY_NAME.upper()}', fontsize=16)\n",
    "plt.tight_layout(rect=[0, 0, 1, 0.96]) \n",
    "plt.show()\n",
    "\n",
    "\n",
    "plt.figure(figsize=(12, 5)) \n",
    "plt.subplot(1, 2, 1)\n",
    "if 'RH' in df_clean.columns and 'Tamb' in df_clean.columns:\n",
    "    plt.scatter(df_clean['RH'], df_clean['Tamb'], alpha=0.3, s=10)\n",
    "    plt.xlabel('Relative Humidity (%)')\n",
    "    plt.ylabel('Ambient Temp (°C)')\n",
    "    plt.title('RH vs. Tamb')\n",
    "else:\n",
    "    plt.text(0.5, 0.5, 'RH or Tamb not available', ha='center', va='center')\n",
    "\n",
    "plt.subplot(1, 2, 2)\n",
    "if 'RH' in df_clean.columns and 'GHI' in df_clean.columns:\n",
    "    plt.scatter(df_clean['RH'], df_clean['GHI'], alpha=0.3, s=10)\n",
    "    plt.xlabel('Relative Humidity (%)')\n",
    "    plt.ylabel('GHI (W/m²)')\n",
    "    plt.title('RH vs. GHI')\n",
    "else:\n",
    "    plt.text(0.5, 0.5, 'RH or GHI not available', ha='center', va='center')\n",
    "\n",
    "plt.suptitle(f'Humidity Relationships - {COUNTRY_NAME.upper()}', fontsize=16)\n",
    "plt.tight_layout(rect=[0, 0, 1, 0.95])\n",
    "plt.show()\n"
   ]
  },
  {
   "cell_type": "markdown",
   "id": "e32f21e1",
   "metadata": {},
   "source": [
    "Wind Distribution Analysis"
   ]
  },
  {
   "cell_type": "code",
   "execution_count": null,
   "id": "b9918590",
   "metadata": {},
   "outputs": [],
   "source": [
    "if 'WD' in df_clean.columns and 'WS' in df_clean.columns:\n",
    "    wind_data_for_rose = df_clean[['WD', 'WS']].dropna()\n",
    "    if not wind_data_for_rose.empty:\n",
    "        try:\n",
    "            fig = plt.figure(figsize=(8, 8))\n",
    "            ax = WindroseAxes.from_ax(fig=fig)\n",
    "            ax.bar(wind_data_for_rose['WD'], wind_data_for_rose['WS'], normed=True, opening=0.8, edgecolor='white')\n",
    "            ax.set_legend()\n",
    "            plt.title(f'Wind Rose (Wind Speed and Direction) - {COUNTRY_NAME.upper()}', y=1.08)\n",
    "            plt.show()\n",
    "        except Exception as e:\n",
    "            print(f\"Could not generate Wind Rose: {e}\")\n",
    "    else:\n",
    "        print(\"No valid data for Wind Rose after dropping NaNs.\")\n",
    "else:\n",
    "    print(\"Skipping Wind Rose: 'WD' or 'WS' column not found.\")\n",
    "\n",
    "plt.figure(figsize=(12, 5))\n",
    "plt.subplot(1, 2, 1)\n",
    "if 'GHI' in df_clean.columns:\n",
    "    sns.histplot(df_clean['GHI'].dropna(), bins=50, kde=True) \n",
    "    plt.title('Distribution of GHI')\n",
    "    plt.xlabel('GHI (W/m²)')\n",
    "else:\n",
    "    plt.text(0.5, 0.5, 'GHI not available', ha='center', va='center')\n",
    "\n",
    "\n",
    "plt.subplot(1, 2, 2)\n",
    "if 'WS' in df_clean.columns:\n",
    "    sns.histplot(df_clean['WS'].dropna(), bins=50, kde=True)\n",
    "    plt.title('Distribution of Wind Speed')\n",
    "    plt.xlabel('Wind Speed (m/s)')\n",
    "else:\n",
    "    plt.text(0.5, 0.5, 'WS not available', ha='center', va='center')\n",
    "\n",
    "plt.suptitle(f'Key Variable Distributions - {COUNTRY_NAME.upper()}', fontsize=16)\n",
    "plt.tight_layout(rect=[0, 0, 1, 0.95])\n",
    "plt.show()"
   ]
  },
  {
   "cell_type": "markdown",
   "id": "91e7868f",
   "metadata": {},
   "source": [
    "Temperature and Humidity Analysis"
   ]
  },
  {
   "cell_type": "code",
   "execution_count": null,
   "id": "8af482b5",
   "metadata": {},
   "outputs": [],
   "source": [
    "if 'RH' in df_clean.columns and 'GHI' in df_clean.columns:\n",
    "    plt.figure(figsize=(8, 6))\n",
    "    sns.regplot(x='RH', y='GHI', data=df_clean, scatter_kws={'alpha':0.2, 's':10}, line_kws={'color':'red'})\n",
    "    plt.title(f'Relative Humidity vs. GHI with Regression Line - {COUNTRY_NAME.upper()}')\n",
    "    plt.xlabel('Relative Humidity (%)')\n",
    "    plt.ylabel('GHI (W/m²)')\n",
    "    plt.tight_layout()\n",
    "    plt.show()\n",
    "else:\n",
    "    print(\"Skipping RH vs GHI regplot: 'RH' or 'GHI' column not found.\")"
   ]
  },
  {
   "cell_type": "markdown",
   "id": "d38ee582",
   "metadata": {},
   "source": [
    "Bubble Chart -> GHI vs Tamb"
   ]
  },
  {
   "cell_type": "code",
   "execution_count": null,
   "id": "3743b3b3",
   "metadata": {},
   "outputs": [],
   "source": [
    "if 'Tamb' in df_clean.columns and 'GHI' in df_clean.columns and 'RH' in df_clean.columns:\n",
    "    rh_normalized = df_clean['RH'].dropna()\n",
    "    if not rh_normalized.empty:\n",
    "        bubble_sizes = (rh_normalized / rh_normalized.max()) * 200 + 10 \n",
    "        temp_df_for_bubble = df_clean[['Tamb', 'GHI', 'RH']].dropna()\n",
    "        plt.figure(figsize=(10, 7))\n",
    "        scatter = plt.scatter(temp_df_for_bubble['Tamb'], temp_df_for_bubble['GHI'],\n",
    "                              s=temp_df_for_bubble['RH'] * 2, \n",
    "                              alpha=0.4, c=temp_df_for_bubble['RH'], cmap='viridis')\n",
    "        plt.xlabel('Ambient Temperature (°C)')\n",
    "        plt.ylabel('GHI (W/m²)')\n",
    "        plt.title(f'GHI vs. Tamb (Bubble Size & Color by RH) - {COUNTRY_NAME.upper()}')\n",
    "        cbar = plt.colorbar(scatter, label='Relative Humidity (%)')\n",
    "        plt.tight_layout()\n",
    "        plt.show()\n",
    "    else:\n",
    "        print(\"RH data is empty after dropping NaNs, cannot create bubble chart.\")\n",
    "else:\n",
    "    print(\"Skipping Bubble Chart: 'Tamb', 'GHI', or 'RH' column not found.\")\n",
    "\n",
    "print(f\"\\n--- EDA for {COUNTRY_NAME.upper()} Complete ---\")"
   ]
  }
 ],
 "metadata": {
  "kernelspec": {
   "display_name": "venv",
   "language": "python",
   "name": "python3"
  },
  "language_info": {
   "codemirror_mode": {
    "name": "ipython",
    "version": 3
   },
   "file_extension": ".py",
   "mimetype": "text/x-python",
   "name": "python",
   "nbconvert_exporter": "python",
   "pygments_lexer": "ipython3",
   "version": "3.13.3"
  }
 },
 "nbformat": 4,
 "nbformat_minor": 5
}
